{
 "cells": [
  {
   "cell_type": "markdown",
   "id": "85031dd7-da32-4b97-ac34-cc82a9ed6a5f",
   "metadata": {},
   "source": [
    "#29th assignment"
   ]
  },
  {
   "cell_type": "markdown",
   "id": "ce1e1d99-c03d-438a-aa81-089047b3225e",
   "metadata": {},
   "source": [
    "#pw skills assignment 1"
   ]
  },
  {
   "cell_type": "markdown",
   "id": "37ecac67-6936-4466-9366-012a12f87deb",
   "metadata": {},
   "source": [
    "#1.Who developed python programmin glanguage\n",
    "\n"
   ]
  },
  {
   "cell_type": "markdown",
   "id": "0c20e942-5357-432d-84d0-44369800e737",
   "metadata": {},
   "source": [
    "Ans:Python is a popular programming language. It was created by Guido van Rossum, and released in 1991."
   ]
  },
  {
   "cell_type": "markdown",
   "id": "1c623717-3957-4e83-bbbf-7b36aa1d09e2",
   "metadata": {},
   "source": [
    "#2.which type of programming language does python support?"
   ]
  },
  {
   "cell_type": "markdown",
   "id": "d3505f21-91e4-4119-89a3-36339be8dfdc",
   "metadata": {},
   "source": [
    "Python is an interpreted, interactive, object-oriented programming language. It incorporates modules, exceptions, dynamic typing, very high level dynamic data types, and classes. It supports multiple programming paradigms beyond object-oriented programming, such as procedural and functional programming."
   ]
  },
  {
   "cell_type": "markdown",
   "id": "ed7f4355-4669-4dfa-a65a-a33a5e9e58eb",
   "metadata": {},
   "source": [
    "#3.Is python case sensitive when dealing with identifiers?"
   ]
  },
  {
   "cell_type": "markdown",
   "id": "0583bbe0-314f-4348-b467-9d993b2a29c0",
   "metadata": {},
   "source": [
    "Yes, Python is a case-sensitive language, i.e., it treats uppercase and lowercase characters differently. This applies to identifiers too. You must avoid using the same name with different cases while naming identifiers"
   ]
  },
  {
   "cell_type": "markdown",
   "id": "612dd319-e4d5-478b-a7eb-44a0ba8f3564",
   "metadata": {},
   "source": [
    "#4.what is the correct extension of the python file?"
   ]
  },
  {
   "cell_type": "markdown",
   "id": "b08fe2cd-d3b3-46c3-b77a-f0de9c0a26d5",
   "metadata": {},
   "source": [
    "Python is a widely used programming or coding language used for different purposes. The extensions for Python files are - . py, . pyi,"
   ]
  },
  {
   "cell_type": "markdown",
   "id": "95d4eb1b-b7c4-4ff8-a9ec-7a2038645604",
   "metadata": {},
   "source": [
    "#5.is python code compiled or interpreted?"
   ]
  },
  {
   "cell_type": "markdown",
   "id": "d70582bd-ecf2-4f56-85d3-9efff5ef0cda",
   "metadata": {},
   "source": [
    "Python is an interpreted language, which means the source code of a Python program is converted into bytecode that is then executed by the Python virtual machine"
   ]
  },
  {
   "cell_type": "markdown",
   "id": "3517fafc-8439-4bf8-ba8c-48ab6142a6b6",
   "metadata": {},
   "source": [
    "#6.Name a few blocks of code used to define in python language?"
   ]
  },
  {
   "cell_type": "markdown",
   "id": "46ee4cc1-c6a7-45ce-bab3-0ec0655af6d4",
   "metadata": {},
   "source": [
    "Indentation is used to define a block of code in python. Braces {} are used to define a block of code in most programming languages, like C, C++, and Java. But this indentation makes python unique among all programming languages.\n",
    "This indentation highlights the block of code. In Python, indentation is done with whitespace. All statements with the same right-hand distance belong to the same code block. If a block needs to be more nested, it is indented to the right."
   ]
  },
  {
   "cell_type": "markdown",
   "id": "68edde19-b39f-4c89-aa3f-5ca1d3b67f12",
   "metadata": {},
   "source": [
    "#7.state a character used to give single-line comments in python?"
   ]
  },
  {
   "cell_type": "markdown",
   "id": "d655b103-258c-49ec-a430-ca8528b9606a",
   "metadata": {},
   "source": [
    "Hash character(#) is used to comment the line in the Python program. Comments does not have to be text to explain the code, it can also be used to prevent Python from executing code"
   ]
  },
  {
   "cell_type": "markdown",
   "id": "939a23d1-668e-4f48-b180-e032e7ed83ed",
   "metadata": {},
   "source": [
    "#8.. Mention functions which can help us to find the version of python that we are currently working on?"
   ]
  },
  {
   "cell_type": "markdown",
   "id": "d9902f38-2e7d-48f7-bc36-2bb11df452df",
   "metadata": {},
   "source": [
    "The function sys. version can help us to find the version of python that we are currently working on."
   ]
  },
  {
   "cell_type": "markdown",
   "id": "2bab5e18-7596-4c86-b523-bea22a85b06f",
   "metadata": {},
   "source": [
    "#9.python supports the creation of anonymous functions at runtime using a construct called"
   ]
  },
  {
   "cell_type": "markdown",
   "id": "760f6dd8-4a26-40b4-956e-d1bc35ec090f",
   "metadata": {},
   "source": [
    "Python supports the creation of anonymous functions (i.e. functions that are not bound to a name) at runtime, using a construct called lambda. Lambda functions are restricted to a single expression. They can be used wherever normal functions can be used."
   ]
  },
  {
   "cell_type": "markdown",
   "id": "db514f1e-4d0e-4b9e-9500-b8fa83675238",
   "metadata": {},
   "source": [
    "#10.\tWhat does pip stand for python?"
   ]
  },
  {
   "cell_type": "markdown",
   "id": "73f59acf-bf21-4421-826f-8d83a8ba4f16",
   "metadata": {},
   "source": [
    "pip stands for \"preferred installer program\". "
   ]
  },
  {
   "cell_type": "markdown",
   "id": "1e7aba65-0969-4c01-9ea3-c608e60b00c1",
   "metadata": {},
   "source": [
    "#11.Mention a few built—in functions in python?"
   ]
  },
  {
   "cell_type": "markdown",
   "id": "ce496bff-7bed-4e93-a6a9-da5841294f4e",
   "metadata": {},
   "source": [
    "Python Built-in Functions\n",
    "print( ) function.\n",
    "type( ) function.\n",
    "input( ) function.\n",
    "abs( ) function.\n",
    "pow( ) function.\n",
    "dir( ) function.\n",
    "sorted( ) function"
   ]
  },
  {
   "cell_type": "markdown",
   "id": "45d90998-2378-4ff3-bca1-00f6a28f5c2a",
   "metadata": {},
   "source": [
    "#12.\tWhat is the maximum possible length of an identifier in Python?"
   ]
  },
  {
   "cell_type": "markdown",
   "id": "5246e462-a510-4158-9c85-b4eb1b673693",
   "metadata": {},
   "source": [
    "An identifier can have a maximum length of 79 characters in Python"
   ]
  },
  {
   "cell_type": "markdown",
   "id": "3048bde4-f8b9-4334-8848-d322c8cf6d1b",
   "metadata": {},
   "source": [
    "#13.What are the benefits of using Python?"
   ]
  },
  {
   "cell_type": "markdown",
   "id": "0246252c-4a56-4167-8013-909521a85da3",
   "metadata": {},
   "source": [
    "Top Reasons to Learn Python\n",
    "Data science.\n",
    "Scientific and mathematical computing.\n",
    "Web development.\n",
    "Finance and trading.\n",
    "System automation and administration.\n",
    "Computer graphics.\n",
    "Basic game development.\n",
    "Security and penetration testing."
   ]
  },
  {
   "cell_type": "markdown",
   "id": "b4a85e6a-3265-403a-b651-a37f4ceba278",
   "metadata": {},
   "source": [
    "14.\tHow is memory managed in Python? "
   ]
  },
  {
   "cell_type": "markdown",
   "id": "068f0c5d-cb52-4115-a180-3e6c3ad2190d",
   "metadata": {},
   "source": [
    "Memory in Python is managed by Python private heap space. All Python objects and data structures are located in a private heap. This private heap is taken care of by Python Interpreter itself, and a programmer doesn't have access to this private heap."
   ]
  },
  {
   "cell_type": "markdown",
   "id": "932db00e-194b-4028-953a-a4af69e668d5",
   "metadata": {},
   "source": [
    "#15.How to install Python on Windows and set path variables?"
   ]
  },
  {
   "cell_type": "markdown",
   "id": "fb2af6a6-77fa-43d5-9621-f2eb9bf6bd16",
   "metadata": {},
   "source": [
    "in the section entitled User Variables, double-click on the entry that says Path. Another window will pop up showing a list of paths. Click the New button and paste the path to your Python executable there. Once that's inserted, select your newly added path and click the Move Up button until it's at the top"
   ]
  },
  {
   "cell_type": "markdown",
   "id": "02abb4ed-d55d-4736-9ebd-5dde152a6f37",
   "metadata": {},
   "source": [
    "#16.Is indentation required in python?"
   ]
  },
  {
   "cell_type": "markdown",
   "id": "411ed883-7ef1-4ad3-beb5-d05bc563407c",
   "metadata": {},
   "source": [
    "ndentation refers to the spaces at the beginning of a code line. Where in other programming languages the indentation in code is for readability only, the indentation in Python is very important. Python uses indentation to indicate a block of code."
   ]
  },
  {
   "cell_type": "markdown",
   "id": "1acd1b94-0bad-439b-89ad-80a5e97db24b",
   "metadata": {},
   "source": []
  },
  {
   "cell_type": "code",
   "execution_count": null,
   "id": "d8812826-5432-4ab8-a2c8-1b66a4f2d8bb",
   "metadata": {},
   "outputs": [],
   "source": []
  }
 ],
 "metadata": {
  "kernelspec": {
   "display_name": "Python 3 (ipykernel)",
   "language": "python",
   "name": "python3"
  },
  "language_info": {
   "codemirror_mode": {
    "name": "ipython",
    "version": 3
   },
   "file_extension": ".py",
   "mimetype": "text/x-python",
   "name": "python",
   "nbconvert_exporter": "python",
   "pygments_lexer": "ipython3",
   "version": "3.10.8"
  }
 },
 "nbformat": 4,
 "nbformat_minor": 5
}
